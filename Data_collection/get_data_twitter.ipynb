{
 "cells": [
  {
   "cell_type": "code",
   "execution_count": 34,
   "metadata": {},
   "outputs": [],
   "source": [
    "import pandas as pd\n",
    "import numpy as np\n",
    "import tweepy\n",
    "import sys\n",
    "import json"
   ]
  },
  {
   "cell_type": "code",
   "execution_count": 37,
   "metadata": {},
   "outputs": [
    {
     "name": "stdout",
     "output_type": "stream",
     "text": [
      "Searching for \"#tierslieu\"                                                      \n",
      "Collecting tweet:  20%|▏| 6038/30000 [05:12<20:39, 19.33tweet/s, queries=1, toke16%|▏| 4768/30000 [04:06<20:13, 20.80tweet/s, queries=1, toke\n"
     ]
    }
   ],
   "source": [
    "# !minet tw scrape tweets \"#tierslieux\" --limit 30000 > tweets_1_tierslieux_30000.csv\n",
    "# df1 = pd.read_csv('tweets_1.csv')\n",
    "# print(df1.columns)\n",
    "\n",
    "!minet tw scrape tweets \"#tierslieu\" --limit 30000 > tweets_2_tierslieu_30000.csv\n",
    "# df2 = pd.read_csv('tweets_2.csv')\n",
    "# df2"
   ]
  },
  {
   "cell_type": "code",
   "execution_count": null,
   "metadata": {},
   "outputs": [],
   "source": []
  }
 ],
 "metadata": {
  "interpreter": {
   "hash": "74c0b7f6186a0dc4f3622f4810ee33a8ada1128fc05dad9e06a64fd546bf2afc"
  },
  "kernelspec": {
   "display_name": "Python 3.9.10 ('py39')",
   "language": "python",
   "name": "python3"
  },
  "language_info": {
   "codemirror_mode": {
    "name": "ipython",
    "version": 3
   },
   "file_extension": ".py",
   "mimetype": "text/x-python",
   "name": "python",
   "nbconvert_exporter": "python",
   "pygments_lexer": "ipython3",
   "version": "3.9.7"
  },
  "orig_nbformat": 4
 },
 "nbformat": 4,
 "nbformat_minor": 2
}
